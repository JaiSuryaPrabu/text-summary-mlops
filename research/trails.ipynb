{
 "cells": [
  {
   "cell_type": "code",
   "execution_count": 1,
   "metadata": {},
   "outputs": [
    {
     "data": {
      "text/plain": [
       "'c:\\\\Users\\\\Surya\\\\Private\\\\Work\\\\Projects\\\\MLOPS\\\\text-summary-mlops'"
      ]
     },
     "execution_count": 1,
     "metadata": {},
     "output_type": "execute_result"
    }
   ],
   "source": [
    "import os\n",
    "os.chdir(\"../\")\n",
    "%pwd"
   ]
  },
  {
   "cell_type": "markdown",
   "metadata": {},
   "source": [
    "# 1. Data Ingestion"
   ]
  },
  {
   "cell_type": "code",
   "execution_count": 1,
   "metadata": {},
   "outputs": [],
   "source": [
    "# dataclass - that returns type of a function\n",
    "# link for dataclass - https://realpython.com/python-data-classes/\n",
    "\n",
    "# src/entity/__init__.py\n",
    "from dataclasses import dataclass\n",
    "from pathlib import Path\n",
    "\n",
    "@dataclass(frozen=True)\n",
    "class DataIngestionConfig:\n",
    "    # contents in the config/config.yaml file\n",
    "    root_dir : Path \n",
    "    source_URL : str \n",
    "    local_data_file : Path\n",
    "    unzip_dir : Path"
   ]
  },
  {
   "cell_type": "code",
   "execution_count": 8,
   "metadata": {},
   "outputs": [
    {
     "name": "stdout",
     "output_type": "stream",
     "text": [
      "{'root_dir': 'artifacts/data_ingestion', 'source_URL': 'https://github.com/entbappy/Branching-tutorial/raw/master/summarizer-data.zip', 'local_data_file': 'artifacts/data_ingestion/data.zip', 'unzip_dir': 'artifacts/data_ingestion'}\n"
     ]
    }
   ],
   "source": [
    "from text_summary.constants import CONFIG_FILE_PATH\n",
    "import yaml\n",
    "from box import ConfigBox\n",
    "\n",
    "with open(CONFIG_FILE_PATH,\"r\") as f:\n",
    "    data = yaml.safe_load(f) # returns dictionary values\n",
    "    print(ConfigBox(data).data_ingestion) # converts to ConfigBox() type"
   ]
  },
  {
   "cell_type": "code",
   "execution_count": 9,
   "metadata": {},
   "outputs": [
    {
     "data": {
      "text/plain": [
       "DataIngestionConfig(root_dir=WindowsPath('c:/'), source_URL='sourcepath', local_data_file=WindowsPath('c:/'), unzip_dir=WindowsPath('c:/'))"
      ]
     },
     "execution_count": 9,
     "metadata": {},
     "output_type": "execute_result"
    }
   ],
   "source": [
    "DataIngestionConfig(Path(\"c:/\"),\"sourcepath\",Path(\"c:/\"),Path(\"c:/\"))"
   ]
  },
  {
   "cell_type": "code",
   "execution_count": 10,
   "metadata": {},
   "outputs": [],
   "source": [
    "# src/config/configuration.py\n",
    "\n",
    "from text_summary.constants import *\n",
    "from text_summary.utils.common import read_yaml,create_directories\n",
    "# from text_summary.entity import DataIngestionConfig\n",
    "\n",
    "# CONGIF MANAGER\n",
    "class ConfigurationManager:\n",
    "    def __init__(self,config_path=CONFIG_FILE_PATH,params_path=PARAMS_FILE_PATH):\n",
    "        # reading the yaml files\n",
    "        self.config = read_yaml(config_path)\n",
    "        self.param = read_yaml(params_path)\n",
    "\n",
    "        # create directories\n",
    "        create_directories([self.config.artifacts_root])\n",
    "\n",
    "    def get_data_ingestion_config(self) -> DataIngestionConfig:\n",
    "        config = self.config.data_ingestion\n",
    "        create_directories([config.root_dir])\n",
    "        data_ingestion_config = DataIngestionConfig(\n",
    "            root_dir= config.root_dir,\n",
    "            source_URL=config.source_URL,\n",
    "            local_data_file=config.local_data_file,\n",
    "            unzip_dir=config.unzip_dir\n",
    "        )\n",
    "        return data_ingestion_config"
   ]
  },
  {
   "cell_type": "code",
   "execution_count": 11,
   "metadata": {},
   "outputs": [],
   "source": [
    "# create a file named data_ingestion.py inside the components\n",
    "# src/components/data_ingestion.py\n",
    "\n",
    "import os\n",
    "from urllib import request\n",
    "import zipfile\n",
    "from text_summary.logging import logger\n",
    "from text_summary.utils.common import get_size\n",
    "# from text_summary.entity import DataIngestionConfig\n",
    "\n",
    "class DataIngestion:\n",
    "    \n",
    "    def __init__(self,config : DataIngestionConfig):\n",
    "        self.config = config\n",
    "\n",
    "    def download_files(self):\n",
    "        # if dataset doesn't downloaded yet \n",
    "        if not os.path.exists(self.config.local_data_file):\n",
    "            filename , headers = request.urlretrieve(\n",
    "                url = self.config.source_URL,\n",
    "                filename = self.config.local_data_file\n",
    "            )\n",
    "            # zip file is downloaded\n",
    "            logger.info(f\"File {filename} downloaded with the info : {headers}\")\n",
    "        else:\n",
    "            # dataset is already downloaded\n",
    "            logger.info(f\"File {filename} is already exist of size : {get_size(Path(self.config.local_data_file))}\")\n",
    "\n",
    "    def extract_data(self):\n",
    "        # extracts the zip file\n",
    "        unzip_path = self.config.unzip_dir\n",
    "        os.makedirs(unzip_path,exist_ok=True)\n",
    "        with zipfile.ZipFile(self.config.local_data_file,'r') as zip_ref:\n",
    "            zip_ref.extractall(unzip_path)"
   ]
  },
  {
   "cell_type": "code",
   "execution_count": 12,
   "metadata": {},
   "outputs": [
    {
     "name": "stdout",
     "output_type": "stream",
     "text": [
      "[2023-08-17 21:22:21,286 : INFO : common : YAML file `config\\config.yaml` loaded successfully]\n",
      "[2023-08-17 21:22:21,291 : INFO : common : YAML file `params.yaml` loaded successfully]\n",
      "[2023-08-17 21:22:21,294 : INFO : common : artifacts Directory is created ]\n",
      "[2023-08-17 21:22:21,296 : INFO : common : artifacts/data_ingestion Directory is created ]\n",
      "[2023-08-17 21:22:27,172 : INFO : 943864026 : File artifacts/data_ingestion/data.zip downloaded with the info : Connection: close\n",
      "Content-Length: 7903594\n",
      "Cache-Control: max-age=300\n",
      "Content-Security-Policy: default-src 'none'; style-src 'unsafe-inline'; sandbox\n",
      "Content-Type: application/zip\n",
      "ETag: \"dbc016a060da18070593b83afff580c9b300f0b6ea4147a7988433e04df246ca\"\n",
      "Strict-Transport-Security: max-age=31536000\n",
      "X-Content-Type-Options: nosniff\n",
      "X-Frame-Options: deny\n",
      "X-XSS-Protection: 1; mode=block\n",
      "X-GitHub-Request-Id: 8F92:3B34A1:1B0DB7:26BC7B:64DE4222\n",
      "Accept-Ranges: bytes\n",
      "Date: Thu, 17 Aug 2023 15:52:03 GMT\n",
      "Via: 1.1 varnish\n",
      "X-Served-By: cache-ccu830036-CCU\n",
      "X-Cache: MISS\n",
      "X-Cache-Hits: 0\n",
      "X-Timer: S1692287522.292363,VS0,VE802\n",
      "Vary: Authorization,Accept-Encoding,Origin\n",
      "Access-Control-Allow-Origin: *\n",
      "Cross-Origin-Resource-Policy: cross-origin\n",
      "X-Fastly-Request-ID: bdcf268f5145d5f8efec826a02ed9402670417ad\n",
      "Expires: Thu, 17 Aug 2023 15:57:03 GMT\n",
      "Source-Age: 0\n",
      "\n",
      "]\n"
     ]
    }
   ],
   "source": [
    "# create a file name stage1DataIngestion.py inside the pipeline\n",
    "\n",
    "try:\n",
    "    configManager = ConfigurationManager()\n",
    "    data_ingestion_config = configManager.get_data_ingestion_config()\n",
    "    data_ingestion = DataIngestion(config = data_ingestion_config)\n",
    "    data_ingestion.download_files()\n",
    "    data_ingestion.extract_data()\n",
    "except Exception as e:\n",
    "    raise e"
   ]
  },
  {
   "cell_type": "markdown",
   "metadata": {},
   "source": [
    "# 2. Data Validation"
   ]
  },
  {
   "cell_type": "code",
   "execution_count": 8,
   "metadata": {},
   "outputs": [],
   "source": [
    "# src/entity/__init__.py\n",
    "from dataclasses import dataclass\n",
    "from pathlib import Path\n",
    "\n",
    "@dataclass(frozen=True)\n",
    "class DataValidationConfig:\n",
    "    root_dir : Path\n",
    "    STATUS_FILE : str\n",
    "    ALL_REQUIRED_FILES : list"
   ]
  },
  {
   "cell_type": "code",
   "execution_count": 23,
   "metadata": {},
   "outputs": [],
   "source": [
    "# src/config/configuration.py\n",
    "from text_summary.constants import *\n",
    "from text_summary.utils.common import read_yaml,create_directories\n",
    "\n",
    "# CONGIF MANAGER\n",
    "class ConfigurationManager:\n",
    "    def __init__(self,config_path=CONFIG_FILE_PATH,params_path=PARAMS_FILE_PATH):\n",
    "        # reading the yaml files\n",
    "        self.config = read_yaml(config_path)\n",
    "        self.param = read_yaml(params_path)\n",
    "\n",
    "        # create directories\n",
    "        create_directories([self.config.artifacts_root])\n",
    "\n",
    "    def get_data_validation_config(self) -> DataValidationConfig:\n",
    "        config = self.config.data_validation\n",
    "\n",
    "        create_directories([config.root_dir])\n",
    "\n",
    "        data_validation_config = DataValidationConfig(\n",
    "            root_dir    = config.root_dir,\n",
    "            STATUS_FILE = config.STATUS_FILE,\n",
    "            ALL_REQUIRED_FILES=config.ALL_REQUIRED_FILES      \n",
    "        )\n",
    "\n",
    "        return data_validation_config\n"
   ]
  },
  {
   "cell_type": "code",
   "execution_count": 28,
   "metadata": {},
   "outputs": [],
   "source": [
    "# src/components/data_validation.py\n",
    "\n",
    "# imports\n",
    "import os\n",
    "from text_summary.logging import logger\n",
    "\n",
    "class DataValidation:\n",
    "    def __init__(self,config : DataValidationConfig):\n",
    "        self.config = config\n",
    "\n",
    "    def validate_all_file_exist(self) -> bool:\n",
    "        try :\n",
    "            validation_status = None\n",
    "\n",
    "            all_files = os.listdir(os.path.join(\"artifacts\",\"data_ingestion\",\"samsum_dataset\"))\n",
    "\n",
    "            for file in all_files:\n",
    "                if file in self.config.ALL_REQUIRED_FILES:\n",
    "                    # required file is found\n",
    "                    validation_status = True\n",
    "                else:\n",
    "                    # file not found\n",
    "                    validation_status = False\n",
    "                with open(self.config.STATUS_FILE,\"a\") as f:\n",
    "                    f.write(f\"File name : `{file}` status : {validation_status} \\n\")\n",
    "            return validation_status\n",
    "        except Exception as e:\n",
    "            raise e "
   ]
  },
  {
   "cell_type": "code",
   "execution_count": 29,
   "metadata": {},
   "outputs": [
    {
     "name": "stdout",
     "output_type": "stream",
     "text": [
      "[2023-08-18 18:47:18,382 : INFO : common : YAML file `config\\config.yaml` loaded successfully]\n",
      "[2023-08-18 18:47:18,386 : INFO : common : YAML file `params.yaml` loaded successfully]\n",
      "[2023-08-18 18:47:18,388 : INFO : common : `artifacts` Directory is created ]\n",
      "[2023-08-18 18:47:18,388 : INFO : common : `artifacts/data_validation` Directory is created ]\n"
     ]
    }
   ],
   "source": [
    "# src/pipeline/stage_02_data_validation.py\n",
    "try:\n",
    "    configManager = ConfigurationManager()\n",
    "    data_val_config = configManager.get_data_validation_config()\n",
    "    data_validation = DataValidation(data_val_config)\n",
    "    data_validation.validate_all_file_exist()\n",
    "except Exception as e:\n",
    "    raise e"
   ]
  },
  {
   "cell_type": "markdown",
   "metadata": {},
   "source": [
    "# Data Transformation"
   ]
  },
  {
   "cell_type": "code",
   "execution_count": 2,
   "metadata": {},
   "outputs": [],
   "source": [
    "# src/entity/__init__.py\n",
    "from dataclasses import dataclass\n",
    "from pathlib import Path\n",
    "\n",
    "@dataclass(frozen=True)\n",
    "class DataTransformationConfig:\n",
    "    root_dir : Path\n",
    "    data_path : Path\n",
    "    tokenizer_name : Path"
   ]
  },
  {
   "cell_type": "code",
   "execution_count": 3,
   "metadata": {},
   "outputs": [],
   "source": [
    "# src/config/configuration.py\n",
    "from text_summary.utils.common import read_yaml,create_directories\n",
    "from text_summary.constants import *\n",
    "\n",
    "class ConfigurationManager:\n",
    "    def __init__(self,config_filepath=CONFIG_FILE_PATH,param_filepath=PARAMS_FILE_PATH):\n",
    "        self.config = read_yaml(config_filepath)\n",
    "        self.params = read_yaml(param_filepath)\n",
    "\n",
    "        create_directories([self.config.artifacts_root])\n",
    "\n",
    "    def get_data_transformation_config(self) -> DataTransformationConfig:\n",
    "        config = self.config.data_transformation\n",
    "        create_directories([config.root_dir])\n",
    "        data_transformation_config = DataTransformationConfig(\n",
    "            root_dir=config.root_dir,\n",
    "            data_path=config.data_path,\n",
    "            tokenizer_name=config.tokenizer_name\n",
    "        )\n",
    "        return data_transformation_config"
   ]
  },
  {
   "cell_type": "code",
   "execution_count": 4,
   "metadata": {},
   "outputs": [],
   "source": [
    "# src/components/data_transformation.py\n",
    "\n",
    "# imports\n",
    "from text_summary.logging import logger\n",
    "from transformers import AutoTokenizer\n",
    "import os\n",
    "from datasets import load_from_disk,load_dataset\n",
    "\n",
    "class DataTransformation:\n",
    "\n",
    "    def __init__(self,config : DataTransformationConfig):\n",
    "        self.config = config\n",
    "        self.tokenizer = AutoTokenizer.from_pretrained(pretrained_model_name_or_path=config.tokenizer_name)\n",
    "\n",
    "    def convert_to_features(self,example_batch):\n",
    "        input_encodings = self.tokenizer(example_batch['dialogue'],max_length=1024,truncation=True)\n",
    "\n",
    "        with self.tokenizer.as_target_tokenizer():\n",
    "            target_encodings = self.tokenizer(example_batch['summary'],max_length=128,truncation=True)\n",
    "\n",
    "        return {\n",
    "            'input_ids' : input_encodings['input_ids'],\n",
    "            'attention_mask' : input_encodings['attention_mask'],\n",
    "            'labels' : target_encodings['input_ids']\n",
    "        }\n",
    "    \n",
    "    def convert(self):\n",
    "        data_samsum = load_from_disk(self.config.data_path)\n",
    "        data_samsum_pt = data_samsum.map(self.convert_to_features,batched=True)\n",
    "        data_samsum_pt.save_to_disk(os.path.join(self.config.root_dir,\"samsum_dataset\"))"
   ]
  },
  {
   "cell_type": "code",
   "execution_count": 6,
   "metadata": {},
   "outputs": [
    {
     "name": "stdout",
     "output_type": "stream",
     "text": [
      "[2023-08-19 18:54:30,377 : INFO : common : YAML file `config\\config.yaml` loaded successfully]\n",
      "[2023-08-19 18:54:30,388 : INFO : common : YAML file `params.yaml` loaded successfully]\n",
      "[2023-08-19 18:54:30,396 : INFO : common : `artifacts` Directory is created ]\n",
      "[2023-08-19 18:54:30,396 : INFO : common : `artifacts/data_transformation` Directory is created ]\n"
     ]
    },
    {
     "name": "stderr",
     "output_type": "stream",
     "text": [
      "Downloading (…)okenizer_config.json: 100%|██████████| 88.0/88.0 [00:00<?, ?B/s]\n",
      "Downloading (…)lve/main/config.json: 100%|██████████| 1.12k/1.12k [00:00<?, ?B/s]\n",
      "Downloading (…)ve/main/spiece.model: 100%|██████████| 1.91M/1.91M [00:00<00:00, 1.92MB/s]\n",
      "Downloading (…)cial_tokens_map.json: 100%|██████████| 65.0/65.0 [00:00<?, ?B/s]\n",
      "Map:   0%|          | 0/14732 [00:00<?, ? examples/s]c:\\Users\\Surya\\Private\\Work\\Projects\\mini_conda\\envs\\summaryNLP\\Lib\\site-packages\\transformers\\tokenization_utils_base.py:3635: UserWarning: `as_target_tokenizer` is deprecated and will be removed in v5 of Transformers. You can tokenize your labels by using the argument `text_target` of the regular `__call__` method (either in the same call as your input texts if you use the same keyword arguments, or in a separate call.\n",
      "  warnings.warn(\n",
      "Map: 100%|██████████| 14732/14732 [00:05<00:00, 2559.32 examples/s]\n",
      "Map: 100%|██████████| 819/819 [00:00<00:00, 2519.25 examples/s]\n",
      "Map: 100%|██████████| 818/818 [00:00<00:00, 2387.49 examples/s]\n",
      "Saving the dataset (1/1 shards): 100%|██████████| 14732/14732 [00:00<00:00, 257453.92 examples/s]\n",
      "Saving the dataset (1/1 shards): 100%|██████████| 819/819 [00:00<00:00, 102017.55 examples/s]\n",
      "Saving the dataset (1/1 shards): 100%|██████████| 818/818 [00:00<00:00, 51124.90 examples/s]\n"
     ]
    }
   ],
   "source": [
    "# src/pipeline/stage_03_data_transformation\n",
    "try:\n",
    "    configManager = ConfigurationManager()\n",
    "    data_transformation_config = configManager.get_data_transformation_config()\n",
    "    data_transformation = DataTransformation(data_transformation_config)\n",
    "    data_transformation.convert()\n",
    "except Exception as e:\n",
    "    raise e"
   ]
  }
 ],
 "metadata": {
  "kernelspec": {
   "display_name": "summaryNLP",
   "language": "python",
   "name": "python3"
  },
  "language_info": {
   "codemirror_mode": {
    "name": "ipython",
    "version": 3
   },
   "file_extension": ".py",
   "mimetype": "text/x-python",
   "name": "python",
   "nbconvert_exporter": "python",
   "pygments_lexer": "ipython3",
   "version": "3.11.4"
  },
  "orig_nbformat": 4
 },
 "nbformat": 4,
 "nbformat_minor": 2
}
