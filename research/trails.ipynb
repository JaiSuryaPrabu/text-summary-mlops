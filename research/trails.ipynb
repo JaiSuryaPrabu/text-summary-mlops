{
 "cells": [
  {
   "cell_type": "code",
   "execution_count": 5,
   "metadata": {},
   "outputs": [
    {
     "data": {
      "text/plain": [
       "'c:\\\\Users\\\\Surya\\\\Private\\\\Work\\\\Projects\\\\MLOPS\\\\text-summary-mlops'"
      ]
     },
     "execution_count": 5,
     "metadata": {},
     "output_type": "execute_result"
    }
   ],
   "source": [
    "import os\n",
    "os.chdir(\"../\")\n",
    "%pwd"
   ]
  },
  {
   "cell_type": "markdown",
   "metadata": {},
   "source": [
    "# 1. Data Ingestion"
   ]
  },
  {
   "cell_type": "code",
   "execution_count": 1,
   "metadata": {},
   "outputs": [],
   "source": [
    "# dataclass - that returns type of a function\n",
    "# link for dataclass - https://realpython.com/python-data-classes/\n",
    "\n",
    "# src/entity/__init__.py\n",
    "from dataclasses import dataclass\n",
    "from pathlib import Path\n",
    "\n",
    "@dataclass(frozen=True)\n",
    "class DataIngestionConfig:\n",
    "    # contents in the config/config.yaml file\n",
    "    root_dir : Path \n",
    "    source_URL : str \n",
    "    local_data_file : Path\n",
    "    unzip_dir : Path"
   ]
  },
  {
   "cell_type": "code",
   "execution_count": 8,
   "metadata": {},
   "outputs": [
    {
     "name": "stdout",
     "output_type": "stream",
     "text": [
      "{'root_dir': 'artifacts/data_ingestion', 'source_URL': 'https://github.com/entbappy/Branching-tutorial/raw/master/summarizer-data.zip', 'local_data_file': 'artifacts/data_ingestion/data.zip', 'unzip_dir': 'artifacts/data_ingestion'}\n"
     ]
    }
   ],
   "source": [
    "from text_summary.constants import CONFIG_FILE_PATH\n",
    "import yaml\n",
    "from box import ConfigBox\n",
    "\n",
    "with open(CONFIG_FILE_PATH,\"r\") as f:\n",
    "    data = yaml.safe_load(f) # returns dictionary values\n",
    "    print(ConfigBox(data).data_ingestion) # converts to ConfigBox() type"
   ]
  },
  {
   "cell_type": "code",
   "execution_count": 9,
   "metadata": {},
   "outputs": [
    {
     "data": {
      "text/plain": [
       "DataIngestionConfig(root_dir=WindowsPath('c:/'), source_URL='sourcepath', local_data_file=WindowsPath('c:/'), unzip_dir=WindowsPath('c:/'))"
      ]
     },
     "execution_count": 9,
     "metadata": {},
     "output_type": "execute_result"
    }
   ],
   "source": [
    "DataIngestionConfig(Path(\"c:/\"),\"sourcepath\",Path(\"c:/\"),Path(\"c:/\"))"
   ]
  },
  {
   "cell_type": "code",
   "execution_count": 10,
   "metadata": {},
   "outputs": [],
   "source": [
    "# src/config/configuration.py\n",
    "\n",
    "from text_summary.constants import *\n",
    "from text_summary.utils.common import read_yaml,create_directories\n",
    "# from text_summary.entity import DataIngestionConfig\n",
    "\n",
    "# CONGIF MANAGER\n",
    "class ConfigurationManager:\n",
    "    def __init__(self,config_path=CONFIG_FILE_PATH,params_path=PARAMS_FILE_PATH):\n",
    "        # reading the yaml files\n",
    "        self.config = read_yaml(config_path)\n",
    "        self.param = read_yaml(params_path)\n",
    "\n",
    "        # create directories\n",
    "        create_directories([self.config.artifacts_root])\n",
    "\n",
    "    def get_data_ingestion_config(self) -> DataIngestionConfig:\n",
    "        config = self.config.data_ingestion\n",
    "        create_directories([config.root_dir])\n",
    "        data_ingestion_config = DataIngestionConfig(\n",
    "            root_dir= config.root_dir,\n",
    "            source_URL=config.source_URL,\n",
    "            local_data_file=config.local_data_file,\n",
    "            unzip_dir=config.unzip_dir\n",
    "        )\n",
    "        return data_ingestion_config"
   ]
  },
  {
   "cell_type": "code",
   "execution_count": 11,
   "metadata": {},
   "outputs": [],
   "source": [
    "# create a file named data_ingestion.py inside the components\n",
    "# src/components/data_ingestion.py\n",
    "\n",
    "import os\n",
    "from urllib import request\n",
    "import zipfile\n",
    "from text_summary.logging import logger\n",
    "from text_summary.utils.common import get_size\n",
    "# from text_summary.entity import DataIngestionConfig\n",
    "\n",
    "class DataIngestion:\n",
    "    \n",
    "    def __init__(self,config : DataIngestionConfig):\n",
    "        self.config = config\n",
    "\n",
    "    def download_files(self):\n",
    "        # if dataset doesn't downloaded yet \n",
    "        if not os.path.exists(self.config.local_data_file):\n",
    "            filename , headers = request.urlretrieve(\n",
    "                url = self.config.source_URL,\n",
    "                filename = self.config.local_data_file\n",
    "            )\n",
    "            # zip file is downloaded\n",
    "            logger.info(f\"File {filename} downloaded with the info : {headers}\")\n",
    "        else:\n",
    "            # dataset is already downloaded\n",
    "            logger.info(f\"File {filename} is already exist of size : {get_size(Path(self.config.local_data_file))}\")\n",
    "\n",
    "    def extract_data(self):\n",
    "        # extracts the zip file\n",
    "        unzip_path = self.config.unzip_dir\n",
    "        os.makedirs(unzip_path,exist_ok=True)\n",
    "        with zipfile.ZipFile(self.config.local_data_file,'r') as zip_ref:\n",
    "            zip_ref.extractall(unzip_path)"
   ]
  },
  {
   "cell_type": "code",
   "execution_count": 12,
   "metadata": {},
   "outputs": [
    {
     "name": "stdout",
     "output_type": "stream",
     "text": [
      "[2023-08-17 21:22:21,286 : INFO : common : YAML file `config\\config.yaml` loaded successfully]\n",
      "[2023-08-17 21:22:21,291 : INFO : common : YAML file `params.yaml` loaded successfully]\n",
      "[2023-08-17 21:22:21,294 : INFO : common : artifacts Directory is created ]\n",
      "[2023-08-17 21:22:21,296 : INFO : common : artifacts/data_ingestion Directory is created ]\n",
      "[2023-08-17 21:22:27,172 : INFO : 943864026 : File artifacts/data_ingestion/data.zip downloaded with the info : Connection: close\n",
      "Content-Length: 7903594\n",
      "Cache-Control: max-age=300\n",
      "Content-Security-Policy: default-src 'none'; style-src 'unsafe-inline'; sandbox\n",
      "Content-Type: application/zip\n",
      "ETag: \"dbc016a060da18070593b83afff580c9b300f0b6ea4147a7988433e04df246ca\"\n",
      "Strict-Transport-Security: max-age=31536000\n",
      "X-Content-Type-Options: nosniff\n",
      "X-Frame-Options: deny\n",
      "X-XSS-Protection: 1; mode=block\n",
      "X-GitHub-Request-Id: 8F92:3B34A1:1B0DB7:26BC7B:64DE4222\n",
      "Accept-Ranges: bytes\n",
      "Date: Thu, 17 Aug 2023 15:52:03 GMT\n",
      "Via: 1.1 varnish\n",
      "X-Served-By: cache-ccu830036-CCU\n",
      "X-Cache: MISS\n",
      "X-Cache-Hits: 0\n",
      "X-Timer: S1692287522.292363,VS0,VE802\n",
      "Vary: Authorization,Accept-Encoding,Origin\n",
      "Access-Control-Allow-Origin: *\n",
      "Cross-Origin-Resource-Policy: cross-origin\n",
      "X-Fastly-Request-ID: bdcf268f5145d5f8efec826a02ed9402670417ad\n",
      "Expires: Thu, 17 Aug 2023 15:57:03 GMT\n",
      "Source-Age: 0\n",
      "\n",
      "]\n"
     ]
    }
   ],
   "source": [
    "# create a file name stage1DataIngestion.py inside the pipeline\n",
    "\n",
    "try:\n",
    "    configManager = ConfigurationManager()\n",
    "    data_ingestion_config = configManager.get_data_ingestion_config()\n",
    "    data_ingestion = DataIngestion(config = data_ingestion_config)\n",
    "    data_ingestion.download_files()\n",
    "    data_ingestion.extract_data()\n",
    "except Exception as e:\n",
    "    raise e"
   ]
  }
 ],
 "metadata": {
  "kernelspec": {
   "display_name": "summaryNLP",
   "language": "python",
   "name": "python3"
  },
  "language_info": {
   "codemirror_mode": {
    "name": "ipython",
    "version": 3
   },
   "file_extension": ".py",
   "mimetype": "text/x-python",
   "name": "python",
   "nbconvert_exporter": "python",
   "pygments_lexer": "ipython3",
   "version": "3.11.4"
  },
  "orig_nbformat": 4
 },
 "nbformat": 4,
 "nbformat_minor": 2
}
